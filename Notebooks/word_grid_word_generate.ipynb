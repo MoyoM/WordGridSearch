{
 "cells": [
  {
   "cell_type": "code",
   "execution_count": 74,
   "metadata": {
    "collapsed": true
   },
   "outputs": [],
   "source": [
    "from string import ascii_uppercase, ascii_lowercase\n",
    "from random import choice\n",
    "import numpy as np\n",
    "import math"
   ]
  },
  {
   "cell_type": "code",
   "execution_count": 75,
   "metadata": {
    "collapsed": true
   },
   "outputs": [],
   "source": [
    "#functions for generating a set o K words that whose sum of letters adds up to a given sum"
   ]
  },
  {
   "cell_type": "code",
   "execution_count": 76,
   "metadata": {
    "collapsed": true
   },
   "outputs": [],
   "source": [
    "def sum_sub_vect(vect, n, sum):\n",
    "     \n",
    "    curr_sum = vect[0]\n",
    "    start = 0\n",
    " \n",
    "    i = 1\n",
    "    while i <= n:\n",
    "        \n",
    "        while curr_sum  < sum:\n",
    "            curr_sum = curr_sum + vect[i]\n",
    "            i += 1\n",
    "    \n",
    "        if curr_sum == sum:\n",
    "            return vect[start:i]\n",
    "        else:\n",
    "            curr_sum = curr_sum - vect[start]\n",
    "            start += 1\n",
    "         \n",
    "    if i  == n & curr_sum != sum:\n",
    "        return(\"No subarray found, increase sample size N\")\n",
    "    "
   ]
  },
  {
   "cell_type": "code",
   "execution_count": 77,
   "metadata": {
    "collapsed": true
   },
   "outputs": [],
   "source": [
    "#weights = a vector of the number of letters in each word to sample\n",
    "def best_set(weights, n, sum):\n",
    "\n",
    "    for iter in range(10):\n",
    "        vect=np.random.choice(weights, n)\n",
    "        out_set= len(set(sum_sub_vect(vect=vect,n=n, sum=sum)))\n",
    "    \n",
    "        if out_set == len(weights):\n",
    "            break\n",
    "    \n",
    "    return sum_sub_vect(vect=vect,n=n, sum=sum)\n",
    "        "
   ]
  },
  {
   "cell_type": "code",
   "execution_count": 78,
   "metadata": {
    "collapsed": true
   },
   "outputs": [],
   "source": [
    "# n - is size of ranom vector of weghts to select from, Integer\n",
    "# N = total cells in grid - Integer\n",
    "# x = word density of selected words enter as proportion\n",
    "\n",
    "def get_words(word_dict, weights, n, N, x):\n",
    "    sum = math.ceil(N*x)\n",
    "    out_values=best_set(weights=weights,n=n,sum=sum)\n",
    "    words_out = []\n",
    "    for i in range(len(out_values)):\n",
    "        words_out.append(list(word_dict.keys())[list(word_dict.values()).index(out_values[i])])\n",
    "    return words_out\n"
   ]
  },
  {
   "cell_type": "code",
   "execution_count": 79,
   "metadata": {
    "collapsed": true
   },
   "outputs": [],
   "source": [
    "#tests"
   ]
  },
  {
   "cell_type": "code",
   "execution_count": 80,
   "metadata": {},
   "outputs": [
    {
     "data": {
      "text/plain": [
       "array([5, 4, 7, 3, 7, 7, 3, 7, 5, 5, 4, 5, 5, 3, 3, 5, 3, 7, 3, 5, 3, 7, 7,\n",
       "       5, 5, 4, 7, 5, 4, 5, 3, 7, 7, 3, 5, 5, 5, 5, 4, 5, 4, 5, 3, 3, 5, 5,\n",
       "       5, 7, 7, 7])"
      ]
     },
     "execution_count": 80,
     "metadata": {},
     "output_type": "execute_result"
    }
   ],
   "source": [
    "test = np.random.choice([4,5,7,5,3],50, p=[0.1, 0.2, 0.3, 0.2, 0.2])\n",
    "test"
   ]
  },
  {
   "cell_type": "code",
   "execution_count": 81,
   "metadata": {},
   "outputs": [
    {
     "data": {
      "text/plain": [
       "array([5, 5, 4, 5, 5, 3, 3])"
      ]
     },
     "execution_count": 81,
     "metadata": {},
     "output_type": "execute_result"
    }
   ],
   "source": [
    "sum_sub_vect(test,50, 30)"
   ]
  },
  {
   "cell_type": "code",
   "execution_count": 82,
   "metadata": {},
   "outputs": [],
   "source": [
    "out_values=best_set(weights=[5,3,7], n=50, sum=30)"
   ]
  },
  {
   "cell_type": "code",
   "execution_count": 83,
   "metadata": {},
   "outputs": [
    {
     "data": {
      "text/plain": [
       "array([5, 7, 5, 5, 5, 3])"
      ]
     },
     "execution_count": 83,
     "metadata": {},
     "output_type": "execute_result"
    }
   ],
   "source": [
    "out_values"
   ]
  },
  {
   "cell_type": "code",
   "execution_count": 84,
   "metadata": {},
   "outputs": [],
   "source": [
    "words_for_grid = get_words(word_dict = {'HOUSE':5,'DOG':3, 'KITCHEN':7}, weights=[5,3,7], n=50, N=144, x=0.25)"
   ]
  },
  {
   "cell_type": "code",
   "execution_count": 85,
   "metadata": {},
   "outputs": [
    {
     "data": {
      "text/plain": [
       "['HOUSE', 'DOG', 'DOG', 'KITCHEN', 'HOUSE', 'KITCHEN', 'DOG', 'DOG']"
      ]
     },
     "execution_count": 85,
     "metadata": {},
     "output_type": "execute_result"
    }
   ],
   "source": [
    "words_for_grid"
   ]
  },
  {
   "cell_type": "code",
   "execution_count": 86,
   "metadata": {},
   "outputs": [
    {
     "data": {
      "text/plain": [
       "36.0"
      ]
     },
     "execution_count": 86,
     "metadata": {},
     "output_type": "execute_result"
    }
   ],
   "source": [
    "0.25*144"
   ]
  },
  {
   "cell_type": "code",
   "execution_count": 90,
   "metadata": {},
   "outputs": [
    {
     "data": {
      "text/plain": [
       "36"
      ]
     },
     "execution_count": 90,
     "metadata": {},
     "output_type": "execute_result"
    }
   ],
   "source": [
    "letters=0\n",
    "for letter in ''.join(words_for_grid):\n",
    "    letters +=1\n",
    "letters\n"
   ]
  }
 ],
 "metadata": {
  "kernelspec": {
   "display_name": "Python 3",
   "language": "python",
   "name": "python3"
  },
  "language_info": {
   "codemirror_mode": {
    "name": "ipython",
    "version": 3
   },
   "file_extension": ".py",
   "mimetype": "text/x-python",
   "name": "python",
   "nbconvert_exporter": "python",
   "pygments_lexer": "ipython3",
   "version": "3.6.3"
  }
 },
 "nbformat": 4,
 "nbformat_minor": 2
}
