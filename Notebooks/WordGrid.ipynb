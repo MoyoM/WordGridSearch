{
 "cells": [
  {
   "cell_type": "code",
   "execution_count": 5,
   "metadata": {},
   "outputs": [],
   "source": [
    "from string import ascii_uppercase, ascii_lowercase\n",
    "from random import choice\n",
    "import numpy as np\n",
    "import word_list_generation as wlg"
   ]
  },
  {
   "cell_type": "markdown",
   "metadata": {},
   "source": [
    "### Grid Class and its methods"
   ]
  },
  {
   "cell_type": "markdown",
   "metadata": {
    "collapsed": true
   },
   "source": [
    "A Class called Grid is created. The class creates a word grid and has methods to operate on this grid"
   ]
  },
  {
   "cell_type": "code",
   "execution_count": 6,
   "metadata": {
    "collapsed": true
   },
   "outputs": [],
   "source": [
    "class Grid:\n",
    "    \n",
    "    def __init__(self, N):\n",
    "        self.N = N\n",
    "        \n",
    "    def create_grid(self):\n",
    "        '''This function creates an empty grid of NXN size.\n",
    "        '''\n",
    "        grid = []\n",
    "        for row in range(self.N):\n",
    "            grid.append([])\n",
    "            for col in range(self.N):\n",
    "                grid[row].append('.')\n",
    "        return grid\n",
    "    \n",
    "    def print_grid(self, grid):\n",
    "        '''\n",
    "        Print grid\n",
    "        '''\n",
    "        for row in grid:\n",
    "            print(' '.join(row))\n",
    "\n",
    "    def count_spaces(self, grid, direction, word_len, start_row, start_col):\n",
    "        '''\n",
    "        This functions counts spaces available in the direction from selected\n",
    "        coordinates start_row and start_col. This is used to control for placement of words in grid.\n",
    "        Words are not placed if there is no space in the given direction.\n",
    "        direction = 'H','V','D' for Horizontal, Vertical and Diagonal\n",
    "        word_len = length of word to be placed\n",
    "        start_row = starting row coordinate of placement\n",
    "        start_col = starting col coordinate of placement\n",
    "        \n",
    "        '''\n",
    "        if direction == 'H':\n",
    "            spaces = grid[start_row][start_col:(start_col+word_len)].count('.')\n",
    "        if direction == 'V':\n",
    "            spaces = 0\n",
    "            for i in range(word_len):\n",
    "                spaces += grid[start_row+i][start_col].count('.')\n",
    "        if direction == 'D':\n",
    "            spaces = 0\n",
    "            for i in range(word_len):\n",
    "                spaces +=grid[start_row+i][start_col+i].count('.')\n",
    "        return spaces\n",
    "\n",
    "    def check_empty_spaces(self, grid):\n",
    "        '''\n",
    "        This counts empty spaces in grid.\n",
    "        '''\n",
    "        empty_spaces=0\n",
    "        for row in grid:\n",
    "            empty_spaces += row.count('.')\n",
    "        return empty_spaces\n",
    "    \n",
    "    \n",
    "   \n",
    "    def add_word(self, grid,word, P=[]):\n",
    "        '''\n",
    "        Adds word with probability vector P=[P(H),P(V),P(D)].\n",
    "        H,V,D = Horizontal, Vertical , Diagonal\n",
    "        '''\n",
    "        word_len = len(word)\n",
    "\n",
    "        first_empty = self.check_empty_spaces(grid)\n",
    "        last_empty = first_empty\n",
    "\n",
    "        while last_empty == first_empty:\n",
    "            #start empty spaces\n",
    "            first_empty = self.check_empty_spaces(grid)\n",
    "\n",
    "            #random start positions\n",
    "            start_row = np.random.randint(0,(self.N-1))\n",
    "            start_col = np.random.randint(0,(self.N-1))\n",
    "\n",
    "\n",
    "            ## sample direction   \n",
    "            direction_set=['H', 'V','D']\n",
    "            #direction Horizontal=0, Vertical=1, Diagonal=1\n",
    "            direction_ind=np.random.choice(a=range(len(P)),size=1,p=P)\n",
    "            direction=direction_set[int(direction_ind)]\n",
    "\n",
    "\n",
    "\n",
    "            if direction=='H':\n",
    "                if (start_col+word_len+1) > self.N: \n",
    "                    start_col = self.N - word_len\n",
    "                else:\n",
    "                    start_col = start_col\n",
    "\n",
    "                spaces_h = self.count_spaces(grid,direction='H',word_len=word_len,start_row=start_row,start_col=start_col)\n",
    "\n",
    "                if spaces_h == word_len:            \n",
    "                    for letter in word:\n",
    "                        for i in range(word_len):\n",
    "                            grid[start_row][start_col+i]=word[i]\n",
    "\n",
    "\n",
    "            elif direction=='V':\n",
    "                if (start_row+word_len+1) > self.N: \n",
    "                    start_row = self.N - word_len\n",
    "                else:\n",
    "                    start_row = start_row\n",
    "\n",
    "                spaces_v = self.count_spaces(grid,direction='V',word_len=word_len,start_row=start_row,start_col=start_col)\n",
    "\n",
    "                if spaces_v == word_len:        \n",
    "                    for letter in word:\n",
    "                        for i in range(word_len):\n",
    "                            grid[start_row+i][start_col]=word[i]\n",
    "\n",
    "            elif direction=='D':\n",
    "                if (start_col+word_len+1) > self.N: \n",
    "                    start_col = self.N - word_len\n",
    "                else:\n",
    "                    start_col = start_col\n",
    "                if (start_row+word_len+1) > self.N: \n",
    "                    start_row = self.N - word_len\n",
    "                else:\n",
    "                    start_row = start_row\n",
    "\n",
    "                spaces_d = self.count_spaces(grid,direction='D',word_len=word_len,start_row=start_row,start_col=start_col)\n",
    "\n",
    "                if spaces_d == word_len:            \n",
    "                    for letter in word:\n",
    "                        for i in range(word_len):\n",
    "                            grid[start_row+i][start_col+i]=word[i]\n",
    "            else:            \n",
    "                Pass\n",
    "\n",
    "            #check word added\n",
    "            last_empty = self.check_empty_spaces(grid)\n",
    "            \n",
    "\n",
    "        return first_empty,last_empty\n",
    "    \n",
    "    \n",
    "    def add_words_multi(self,grid,word,words_vec,P=[]):\n",
    "    \n",
    "        \"\"\" \n",
    "        This function adds words as generated from word_list_generation module as a 1-D array.\n",
    "        grid = grid object from Grid.create_grid method\n",
    "        word = word to enter into grid\n",
    "        word_dict = keys are the words, values are count of letters in each word (weights)\n",
    "        n = sample size large enough to sample from to get subarray with sum weights equivalent to required word density(x)\n",
    "        N passed from self.N is Grid size N*N , e.g. for 12^12 grid N is 12\n",
    "        weights = 1-D array of number of letters in each word\n",
    "        P = 1-D array of placement probability to Horizontal, Vertical , Diagonal position\n",
    "        \"\"\"\n",
    "        words_for_grid = words_vec\n",
    "        for times in range(words_for_grid.count(word)):\n",
    "            self.add_word(grid=grid,word=word,P=P)\n",
    "        \n",
    "        self.print_grid(grid)\n",
    "        \n",
    "        \n",
    "        \n",
    "    def fill_up_grid(self,grid):\n",
    "        '''\n",
    "        Fills up empty spaces in grid with random letters\n",
    "        '''\n",
    "        for row in range(len(grid)):\n",
    "            for col in range(len(grid)):\n",
    "                if grid[row][col] =='.':\n",
    "                    grid[row][col]=str(choice(ascii_uppercase))\n",
    "        self.print_grid(grid)\n",
    "        \n",
    "        \n",
    "    def word_search(self, grid, word):\n",
    "        '''\n",
    "        This function searches for a given word in the grid. It returns the starting coordinates of\n",
    "        word and the direction it is placed in.\n",
    "        '''\n",
    "\n",
    "        word_len = len(word)\n",
    "\n",
    "        #horizontal\n",
    "        for row in  range(len(grid)):\n",
    "            for col in range(len(grid)):\n",
    "\n",
    "                any_word = []\n",
    "\n",
    "                #horizontal\n",
    "                for n in range(word_len):\n",
    "                    if (0 <= col + word_len - 1 < len(grid)):\n",
    "                        any_word += grid[row][col + n ]\n",
    "                        if word == ''.join(any_word):\n",
    "                            print(\"%s Found at (%d,%d)  in Horizontal direction\" % (word,row,col))\n",
    "                            continue\n",
    "                        continue\n",
    "\n",
    "\n",
    "        #vertical\n",
    "\n",
    "        for row in  range(len(grid)):\n",
    "            for col in range(len(grid)):\n",
    "                any_word = []\n",
    "\n",
    "            #vertical\n",
    "                for n in range(word_len):\n",
    "                    if (0 <= row + word_len - 1  < len(grid)):\n",
    "                        any_word += grid[row + n][col]\n",
    "                        if word == ''.join(any_word):\n",
    "                            print(\"%s Found at (%d,%d)  in Vertical direction\" % (word,row,col))\n",
    "                            continue\n",
    "                    continue\n",
    "\n",
    "     #diagonal\n",
    "        for row in  range(len(grid)):\n",
    "            for col in range(len(grid)):\n",
    "                any_word = []\n",
    "\n",
    "                #diagonal\n",
    "                for n in range(word_len):\n",
    "                    if (0 <= row + word_len - 1  < len(grid) and 0 <= col + word_len - 1 < len(grid)):\n",
    "                        any_word += grid[row + n][col + n ]\n",
    "                        if word == ''.join(any_word):\n",
    "                            print(\"%s Found at (%d,%d)  in Diagonal direction\" % (word,row,col))\n",
    "                            continue\n",
    "                    else:\n",
    "                        pass\n",
    "\n"
   ]
  },
  {
   "cell_type": "markdown",
   "metadata": {
    "collapsed": true
   },
   "source": [
    "### Test key functions"
   ]
  },
  {
   "cell_type": "code",
   "execution_count": 7,
   "metadata": {},
   "outputs": [],
   "source": [
    "grid= Grid(12)"
   ]
  },
  {
   "cell_type": "code",
   "execution_count": 8,
   "metadata": {
    "collapsed": true
   },
   "outputs": [],
   "source": [
    "my_grid=grid.create_grid()"
   ]
  },
  {
   "cell_type": "code",
   "execution_count": 9,
   "metadata": {},
   "outputs": [
    {
     "name": "stdout",
     "output_type": "stream",
     "text": [
      ". . . . . . . . . . . .\n",
      ". . . . . . . . . . . .\n",
      ". . . . . . . . . . . .\n",
      ". . . . . . . . . . . .\n",
      ". . . . . . . . . . . .\n",
      ". . . . . . . . . . . .\n",
      ". . . . . . . . . . . .\n",
      ". . . . . . . . . . . .\n",
      ". . . . . . . . . . . .\n",
      ". . . . . . . . . . . .\n",
      ". . . . . . . . . . . .\n",
      ". . . . . . . . . . . .\n"
     ]
    }
   ],
   "source": [
    "grid.print_grid(my_grid)"
   ]
  },
  {
   "cell_type": "code",
   "execution_count": 10,
   "metadata": {},
   "outputs": [
    {
     "data": {
      "text/plain": [
       "7"
      ]
     },
     "execution_count": 10,
     "metadata": {},
     "output_type": "execute_result"
    }
   ],
   "source": [
    "grid.count_spaces(my_grid,'H',7,0,0)"
   ]
  },
  {
   "cell_type": "code",
   "execution_count": 11,
   "metadata": {},
   "outputs": [
    {
     "data": {
      "text/plain": [
       "(144, 139)"
      ]
     },
     "execution_count": 11,
     "metadata": {},
     "output_type": "execute_result"
    }
   ],
   "source": [
    "grid.add_word(my_grid,'HOUSE',[0.3,0.3,0.4])"
   ]
  },
  {
   "cell_type": "code",
   "execution_count": 12,
   "metadata": {},
   "outputs": [
    {
     "name": "stdout",
     "output_type": "stream",
     "text": [
      ". . . . . . . . . . . .\n",
      ". . . . . . . . . . . .\n",
      ". . . . . . . . . . . .\n",
      ". . . H . . . . . . . .\n",
      ". . . . O . . . . . . .\n",
      ". . . . . U . . . . . .\n",
      ". . . . . . S . . . . .\n",
      ". . . . . . . E . . . .\n",
      ". . . . . . . . . . . .\n",
      ". . . . . . . . . . . .\n",
      ". . . . . . . . . . . .\n",
      ". . . . . . . . . . . .\n"
     ]
    }
   ],
   "source": [
    "grid.print_grid(my_grid)"
   ]
  },
  {
   "cell_type": "markdown",
   "metadata": {},
   "source": [
    "## STAGE 1 SOLUTION"
   ]
  },
  {
   "cell_type": "markdown",
   "metadata": {},
   "source": [
    "Create a Grid Filled with specific words\n",
    "------------------------------------------\n",
    "\n",
    "This the part of solution that creates a grid and add words to grid. A 12X12 grid is created in this work.\n",
    "Please note - The first part of solution genearating words for a given WordDensity x% is presented  the in word_list_generation notebook/module. This module is imported into this module to add functionality to given methods.\n",
    "\n",
    "The words chosen for this work are 'HOUSE','DOG','KITCHEN'.\n",
    "\n",
    "The words are added to grid to fill 25% of the 12X12 cells in grid. Each word is placed in grid with a set probability \n",
    "for Horizontal, Vertical, Diagonal placement. Here these probabilities are P=[0.3,0.4,0.3] consecutively."
   ]
  },
  {
   "cell_type": "markdown",
   "metadata": {},
   "source": [
    "a) Empty 12X12 grid created"
   ]
  },
  {
   "cell_type": "code",
   "execution_count": 13,
   "metadata": {
    "collapsed": true
   },
   "outputs": [],
   "source": [
    "my_grid=grid.create_grid()"
   ]
  },
  {
   "cell_type": "code",
   "execution_count": 14,
   "metadata": {},
   "outputs": [
    {
     "name": "stdout",
     "output_type": "stream",
     "text": [
      ". . . . . . . . . . . .\n",
      ". . . . . . . . . . . .\n",
      ". . . . . . . . . . . .\n",
      ". . . . . . . . . . . .\n",
      ". . . . . . . . . . . .\n",
      ". . . . . . . . . . . .\n",
      ". . . . . . . . . . . .\n",
      ". . . . . . . . . . . .\n",
      ". . . . . . . . . . . .\n",
      ". . . . . . . . . . . .\n",
      ". . . . . . . . . . . .\n",
      ". . . . . . . . . . . .\n"
     ]
    }
   ],
   "source": [
    "grid.print_grid(my_grid)"
   ]
  },
  {
   "cell_type": "markdown",
   "metadata": {},
   "source": [
    "b) Generate words that fill 25% of 12X12 grid are generated from word_list_generation module"
   ]
  },
  {
   "cell_type": "code",
   "execution_count": 15,
   "metadata": {
    "collapsed": true
   },
   "outputs": [],
   "source": [
    "words_for_grid = wlg.get_words(word_dict = {'HOUSE':5,'DOG':3, 'KITCHEN':7}, weights=[5,3,7], n=50, N=144, x=0.25)"
   ]
  },
  {
   "cell_type": "code",
   "execution_count": 16,
   "metadata": {},
   "outputs": [
    {
     "data": {
      "text/plain": [
       "['DOG', 'DOG', 'HOUSE', 'HOUSE', 'KITCHEN', 'DOG', 'KITCHEN', 'DOG']"
      ]
     },
     "execution_count": 16,
     "metadata": {},
     "output_type": "execute_result"
    }
   ],
   "source": [
    "words_for_grid"
   ]
  },
  {
   "cell_type": "markdown",
   "metadata": {},
   "source": [
    "c) Place words selected with different probabilities of being placed Horizontally, Vertically and Diagonally -> P"
   ]
  },
  {
   "cell_type": "code",
   "execution_count": 17,
   "metadata": {
    "collapsed": true
   },
   "outputs": [],
   "source": [
    "P=[0.3,0.4,0.3]"
   ]
  },
  {
   "cell_type": "code",
   "execution_count": 18,
   "metadata": {},
   "outputs": [
    {
     "name": "stdout",
     "output_type": "stream",
     "text": [
      ". . . . . . . . . . . .\n",
      ". . . . . . . . . . . .\n",
      ". . . . . K I T C H E N\n",
      ". . . . . . . . . . . .\n",
      ". . . . . . . . . . . .\n",
      ". . . . K . . . . . . .\n",
      ". . . . . I . . . . . .\n",
      ". . . . . . T . . . . .\n",
      ". . . . . . . C . . . .\n",
      ". . . . . . . . H . . .\n",
      ". . . . . . . . . E . .\n",
      ". . . . . . . . . . N .\n"
     ]
    }
   ],
   "source": [
    "grid.add_words_multi(my_grid,'KITCHEN',words_for_grid, P)"
   ]
  },
  {
   "cell_type": "code",
   "execution_count": 19,
   "metadata": {},
   "outputs": [
    {
     "name": "stdout",
     "output_type": "stream",
     "text": [
      ". . . . . . . . . . . .\n",
      ". . . . . . . . . . . .\n",
      ". . . . . K I T C H E N\n",
      ". H O U S E . . . . . .\n",
      ". . . . . . . . . . . .\n",
      ". . . . K . . . . . . .\n",
      ". . . . . I . . . . . .\n",
      ". . . . . . T . . . . .\n",
      ". . . . . . . C . . . .\n",
      ". . . . . . . . H . . .\n",
      ". . H O U S E . . E . .\n",
      ". . . . . . . . . . N .\n"
     ]
    }
   ],
   "source": [
    "grid.add_words_multi(my_grid,'HOUSE',words_for_grid, P)"
   ]
  },
  {
   "cell_type": "markdown",
   "metadata": {},
   "source": [
    "d) All words placed in grid to occupy 36 cells (25%) of 12X12 grid"
   ]
  },
  {
   "cell_type": "code",
   "execution_count": 20,
   "metadata": {},
   "outputs": [
    {
     "name": "stdout",
     "output_type": "stream",
     "text": [
      ". . . . . . . . . . . .\n",
      ". . . . . . D O G . . .\n",
      ". . . . . K I T C H E N\n",
      ". H O U S E D . D . . .\n",
      ". . . . . . O . O . . .\n",
      ". D . . K . G . G . . .\n",
      ". . O . . I . . . . . .\n",
      ". . . G . . T . . . . .\n",
      ". . . . . . . C . . . .\n",
      ". . . . . . . . H . . .\n",
      ". . H O U S E . . E . .\n",
      ". . . . . . . . . . N .\n"
     ]
    }
   ],
   "source": [
    "grid.add_words_multi(my_grid,'DOG',words_for_grid, P)"
   ]
  },
  {
   "cell_type": "markdown",
   "metadata": {},
   "source": [
    "e) Rest of grid filled with random letters"
   ]
  },
  {
   "cell_type": "code",
   "execution_count": 21,
   "metadata": {},
   "outputs": [
    {
     "name": "stdout",
     "output_type": "stream",
     "text": [
      "Y I V P W V X P A B B R\n",
      "R N E Q Y H D O G W U Z\n",
      "L A R I I K I T C H E N\n",
      "P H O U S E D V D N N K\n",
      "K D B Y F N O Y O H O N\n",
      "N D Z F K Z G S G L A M\n",
      "K I O O B I W X P W H M\n",
      "U F P G V O T E L X B T\n",
      "W P W Z L S G C D H C G\n",
      "F X F W I I E J H L J S\n",
      "F R H O U S E Y S E Z V\n",
      "N O W L A E Z G D F N M\n"
     ]
    }
   ],
   "source": [
    "grid.fill_up_grid(my_grid)"
   ]
  },
  {
   "cell_type": "markdown",
   "metadata": {
    "collapsed": true
   },
   "source": [
    "## Search For Words in Grid"
   ]
  },
  {
   "cell_type": "code",
   "execution_count": 22,
   "metadata": {},
   "outputs": [
    {
     "name": "stdout",
     "output_type": "stream",
     "text": [
      "HOUSE Found at (3,1)  in Horizontal direction\n",
      "HOUSE Found at (10,2)  in Horizontal direction\n"
     ]
    }
   ],
   "source": [
    "grid.word_search(my_grid, 'HOUSE')"
   ]
  },
  {
   "cell_type": "code",
   "execution_count": 23,
   "metadata": {},
   "outputs": [
    {
     "name": "stdout",
     "output_type": "stream",
     "text": [
      "DOG Found at (1,6)  in Horizontal direction\n",
      "DOG Found at (3,6)  in Vertical direction\n",
      "DOG Found at (3,8)  in Vertical direction\n",
      "DOG Found at (5,1)  in Diagonal direction\n"
     ]
    }
   ],
   "source": [
    "grid.word_search(my_grid, 'DOG')"
   ]
  },
  {
   "cell_type": "code",
   "execution_count": 24,
   "metadata": {},
   "outputs": [
    {
     "name": "stdout",
     "output_type": "stream",
     "text": [
      "KITCHEN Found at (2,5)  in Horizontal direction\n",
      "KITCHEN Found at (5,4)  in Diagonal direction\n"
     ]
    }
   ],
   "source": [
    "grid.word_search(my_grid, 'KITCHEN')"
   ]
  },
  {
   "cell_type": "code",
   "execution_count": 26,
   "metadata": {},
   "outputs": [
    {
     "name": "stderr",
     "output_type": "stream",
     "text": [
      "[NbConvertApp] Converting notebook WordGrid.ipynb to script\n",
      "[NbConvertApp] Writing 10238 bytes to WordGrid.py\n"
     ]
    }
   ],
   "source": [
    "!jupyter nbconvert --to script WordGrid.ipynb"
   ]
  },
  {
   "cell_type": "code",
   "execution_count": null,
   "metadata": {
    "collapsed": true
   },
   "outputs": [],
   "source": []
  }
 ],
 "metadata": {
  "kernelspec": {
   "display_name": "Python 3",
   "language": "python",
   "name": "python3"
  },
  "language_info": {
   "codemirror_mode": {
    "name": "ipython",
    "version": 3
   },
   "file_extension": ".py",
   "mimetype": "text/x-python",
   "name": "python",
   "nbconvert_exporter": "python",
   "pygments_lexer": "ipython3",
   "version": "3.6.3"
  }
 },
 "nbformat": 4,
 "nbformat_minor": 2
}
