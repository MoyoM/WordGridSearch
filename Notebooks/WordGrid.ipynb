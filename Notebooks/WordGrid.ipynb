{
 "cells": [
  {
   "cell_type": "code",
   "execution_count": 1,
   "metadata": {},
   "outputs": [],
   "source": [
    "from string import ascii_uppercase, ascii_lowercase\n",
    "from random import choice\n",
    "import numpy as np"
   ]
  },
  {
   "cell_type": "code",
   "execution_count": 204,
   "metadata": {
    "collapsed": true
   },
   "outputs": [],
   "source": [
    "class WordGrid:\n",
    "    \n",
    "    def __init__(self, N):\n",
    "        self.N = N\n",
    "        \n",
    "    def create_grid(self):\n",
    "        grid = []\n",
    "        for row in range(self.N):\n",
    "            grid.append([])\n",
    "            for col in range(self.N):\n",
    "                grid[row].append('.')\n",
    "        return grid\n",
    "    \n",
    "    def print_grid(self, grid):\n",
    "        for row in grid:\n",
    "            print(' '.join(row))\n",
    "\n",
    "    def count_spaces(self, grid, direction, word_len, start_row, start_col):\n",
    "        if direction == 'H':\n",
    "            spaces = grid[start_row][start_col:(start_col+word_len)].count('.')\n",
    "        if direction == 'V':\n",
    "            spaces = 0\n",
    "            for i in range(word_len):\n",
    "                spaces += grid[start_row+i][start_col].count('.')\n",
    "        if direction == 'D':\n",
    "            spaces = 0\n",
    "            for i in range(word_len):\n",
    "                spaces +=grid[start_row+i][start_col+i].count('.')\n",
    "        return spaces\n",
    "\n",
    "    def check_empty_spaces(self, grid):\n",
    "        empty_spaces=0\n",
    "        for row in grid:\n",
    "            empty_spaces += row.count('.')\n",
    "        return empty_spaces\n",
    "    \n",
    "    \n",
    "   \n",
    "    def add_word(self, grid,word, P=[]):\n",
    "        word_len = len(word)\n",
    "\n",
    "        first_empty = self.check_empty_spaces(grid)\n",
    "        last_empty = first_empty\n",
    "\n",
    "        while last_empty == first_empty:\n",
    "            #start empty spaces\n",
    "            first_empty = self.check_empty_spaces(grid)\n",
    "\n",
    "            #random start positions\n",
    "            start_row = np.random.randint(0,(self.N-1))\n",
    "            start_col = np.random.randint(0,(self.N-1))\n",
    "\n",
    "\n",
    "            ## sample direction   \n",
    "            direction_set=['H', 'V','D']\n",
    "            #direction Horizontal=0, Vertical=1, Diagonal=1\n",
    "            direction_ind=np.random.choice(a=range(len(P)),size=1,p=P)\n",
    "            direction=direction_set[int(direction_ind)]\n",
    "\n",
    "\n",
    "\n",
    "            if direction=='H':\n",
    "                if (start_col+word_len+1) > self.N: \n",
    "                    start_col = self.N - word_len\n",
    "                else:\n",
    "                    start_col = start_col\n",
    "\n",
    "                spaces_h = self.count_spaces(grid,direction='H',word_len=word_len,start_row=start_row,start_col=start_col)\n",
    "\n",
    "                if spaces_h == word_len:            \n",
    "                    for letter in word:\n",
    "                        for i in range(word_len):\n",
    "                            grid[start_row][start_col+i]=word[i]\n",
    "\n",
    "\n",
    "            elif direction=='V':\n",
    "                if (start_row+word_len+1) > self.N: \n",
    "                    start_row = self.N - word_len\n",
    "                else:\n",
    "                    start_row = start_row\n",
    "\n",
    "                spaces_v = self.count_spaces(grid,direction='V',word_len=word_len,start_row=start_row,start_col=start_col)\n",
    "\n",
    "                if spaces_v == word_len:        \n",
    "                    for letter in word:\n",
    "                        for i in range(word_len):\n",
    "                            grid[start_row+i][start_col]=word[i]\n",
    "\n",
    "            elif direction=='D':\n",
    "                if (start_col+word_len+1) > self.N: \n",
    "                    start_col = self.N - word_len\n",
    "                else:\n",
    "                    start_col = start_col\n",
    "                if (start_row+word_len+1) > self.N: \n",
    "                    start_row = self.N - word_len\n",
    "                else:\n",
    "                    start_row = start_row\n",
    "\n",
    "                spaces_d = self.count_spaces(grid,direction='D',word_len=word_len,start_row=start_row,start_col=start_col)\n",
    "\n",
    "                if spaces_d == word_len:            \n",
    "                    for letter in word:\n",
    "                        for i in range(word_len):\n",
    "                            grid[start_row+i][start_col+i]=word[i]\n",
    "            else:            \n",
    "                Pass\n",
    "\n",
    "            #check word added\n",
    "            last_empty = self.check_empty_spaces(grid)\n",
    "\n",
    "        return first_empty,last_empty\n",
    "    \n",
    "    \n",
    "    def add_words_multi(self,grid,word,P=[]):\n",
    "        for times in range(words_for_grid.count(word)):\n",
    "            self.add_word(grid=grid,word=word, P=P)\n",
    "        print_grid(grid)\n",
    "        \n",
    "\n",
    "    def fill_up_grid(self,grid):\n",
    "        for row in range(len(grid)):\n",
    "            for col in range(len(grid)):\n",
    "                if grid[row][col] =='.':\n",
    "                    grid[row][col]=str(choice(ascii_uppercase))\n",
    "        self.print_grid(grid)\n",
    "        \n",
    "        \n",
    "    def word_search(self, grid, word):\n",
    "\n",
    "        word_len = len(word)\n",
    "\n",
    "        #horizontal\n",
    "        for row in  range(len(grid)):\n",
    "            for col in range(len(grid)):\n",
    "\n",
    "                any_word = []\n",
    "\n",
    "                #horizontal\n",
    "                for n in range(word_len):\n",
    "                    if (0 <= col + word_len - 1 < len(grid)):\n",
    "                        any_word += grid[row][col + n ]\n",
    "                        if word == ''.join(any_word):\n",
    "                            print(\"%s Found at (%d,%d)  in Horizontal direction\" % (word,row,col))\n",
    "                            continue\n",
    "                        continue\n",
    "\n",
    "\n",
    "        #vertical\n",
    "\n",
    "        for row in  range(len(grid)):\n",
    "            for col in range(len(grid)):\n",
    "                any_word = []\n",
    "\n",
    "            #vertical\n",
    "                for n in range(word_len):\n",
    "                    if (0 <= row + word_len - 1  < len(grid)):\n",
    "                        any_word += grid[row + n][col]\n",
    "                        if word == ''.join(any_word):\n",
    "                            print(\"%s Found at (%d,%d)  in Vertical direction\" % (word,row,col))\n",
    "                            continue\n",
    "                    continue\n",
    "\n",
    "     #diagonal\n",
    "        for row in  range(len(grid)):\n",
    "            for col in range(len(grid)):\n",
    "                any_word = []\n",
    "\n",
    "                #diagonal\n",
    "                for n in range(word_len):\n",
    "                    if (0 <= row + word_len - 1  < len(grid) and 0 <= col + word_len - 1 < len(grid)):\n",
    "                        any_word += grid[row + n][col + n ]\n",
    "                        if word == ''.join(any_word):\n",
    "                            print(\"%s Found at (%d,%d)  in Diagonal direction\" % (word,row,col))\n",
    "                            continue\n",
    "                    else:\n",
    "                        pass\n",
    "\n"
   ]
  },
  {
   "cell_type": "code",
   "execution_count": null,
   "metadata": {
    "collapsed": true
   },
   "outputs": [],
   "source": [
    "#tests"
   ]
  },
  {
   "cell_type": "code",
   "execution_count": 205,
   "metadata": {
    "collapsed": true
   },
   "outputs": [],
   "source": [
    "grid= WordGrid(12)"
   ]
  },
  {
   "cell_type": "code",
   "execution_count": 206,
   "metadata": {
    "collapsed": true
   },
   "outputs": [],
   "source": [
    "my_grid=grid.create_grid()"
   ]
  },
  {
   "cell_type": "code",
   "execution_count": 207,
   "metadata": {},
   "outputs": [
    {
     "name": "stdout",
     "output_type": "stream",
     "text": [
      ". . . . . . . . . . . .\n",
      ". . . . . . . . . . . .\n",
      ". . . . . . . . . . . .\n",
      ". . . . . . . . . . . .\n",
      ". . . . . . . . . . . .\n",
      ". . . . . . . . . . . .\n",
      ". . . . . . . . . . . .\n",
      ". . . . . . . . . . . .\n",
      ". . . . . . . . . . . .\n",
      ". . . . . . . . . . . .\n",
      ". . . . . . . . . . . .\n",
      ". . . . . . . . . . . .\n"
     ]
    }
   ],
   "source": [
    "grid.print_grid(my_grid)"
   ]
  },
  {
   "cell_type": "code",
   "execution_count": 208,
   "metadata": {},
   "outputs": [
    {
     "data": {
      "text/plain": [
       "7"
      ]
     },
     "execution_count": 208,
     "metadata": {},
     "output_type": "execute_result"
    }
   ],
   "source": [
    "grid.count_spaces(my_grid,'H',7,0,0)"
   ]
  },
  {
   "cell_type": "code",
   "execution_count": 212,
   "metadata": {},
   "outputs": [
    {
     "data": {
      "text/plain": [
       "(129, 124)"
      ]
     },
     "execution_count": 212,
     "metadata": {},
     "output_type": "execute_result"
    }
   ],
   "source": [
    "grid.add_word(my_grid,'HOUSE',[0.3,0.3,0.4])"
   ]
  },
  {
   "cell_type": "code",
   "execution_count": 213,
   "metadata": {},
   "outputs": [
    {
     "name": "stdout",
     "output_type": "stream",
     "text": [
      ". . . . . . . H . . . .\n",
      ". . . . . . . . O . . .\n",
      ". . . . . . . H . U . .\n",
      ". . . . H . . . O . S .\n",
      ". . . . . O . . . U . E\n",
      ". . . . . . U . . . S .\n",
      ". . . . . . . S . . . E\n",
      ". . . . . . . . E . . .\n",
      ". . . . . H O U S E . .\n",
      ". . . . . . . . . . . .\n",
      ". . . . . . . . . . . .\n",
      ". . . . . . . . . . . .\n"
     ]
    }
   ],
   "source": [
    "grid.print_grid(my_grid)"
   ]
  },
  {
   "cell_type": "code",
   "execution_count": null,
   "metadata": {
    "collapsed": true
   },
   "outputs": [],
   "source": [
    "#word grid output"
   ]
  },
  {
   "cell_type": "code",
   "execution_count": 214,
   "metadata": {},
   "outputs": [
    {
     "name": "stdout",
     "output_type": "stream",
     "text": [
      "N D Y N T L W H T S K Q\n",
      "M P L K M K F L O J V P\n",
      "R B U H I W H H U U E C\n",
      "L X F P H X W X O G S O\n",
      "W E Q D N O B I C U G E\n",
      "G X O N U H U I N Z S Q\n",
      "A I I A X K W S D O J E\n",
      "D S U G K X R P E R O K\n",
      "F W G V U H O U S E D O\n",
      "L W C X G H H Y D J W C\n",
      "G T X Q Q Y O C C R F D\n",
      "I C D H C S G S W K U V\n"
     ]
    }
   ],
   "source": [
    "grid.fill_up_grid(my_grid)"
   ]
  },
  {
   "cell_type": "code",
   "execution_count": null,
   "metadata": {
    "collapsed": true
   },
   "outputs": [],
   "source": [
    "#search problem"
   ]
  },
  {
   "cell_type": "code",
   "execution_count": 215,
   "metadata": {},
   "outputs": [
    {
     "name": "stdout",
     "output_type": "stream",
     "text": [
      "HOUSE Found at (8,5)  in Horizontal direction\n",
      "HOUSE Found at (0,7)  in Diagonal direction\n",
      "HOUSE Found at (2,7)  in Diagonal direction\n",
      "HOUSE Found at (3,4)  in Diagonal direction\n"
     ]
    }
   ],
   "source": [
    "grid.word_search(my_grid, 'HOUSE')"
   ]
  }
 ],
 "metadata": {
  "kernelspec": {
   "display_name": "Python 3",
   "language": "python",
   "name": "python3"
  },
  "language_info": {
   "codemirror_mode": {
    "name": "ipython",
    "version": 3
   },
   "file_extension": ".py",
   "mimetype": "text/x-python",
   "name": "python",
   "nbconvert_exporter": "python",
   "pygments_lexer": "ipython3",
   "version": "3.6.3"
  }
 },
 "nbformat": 4,
 "nbformat_minor": 2
}
