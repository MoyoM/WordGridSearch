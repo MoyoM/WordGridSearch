{
 "cells": [
  {
   "cell_type": "code",
   "execution_count": 2,
   "metadata": {
    "collapsed": true
   },
   "outputs": [],
   "source": [
    "from string import ascii_uppercase, ascii_lowercase\n",
    "from random import choice\n",
    "import numpy as np"
   ]
  },
  {
   "cell_type": "code",
   "execution_count": 8,
   "metadata": {
    "collapsed": true
   },
   "outputs": [],
   "source": [
    "def grid_hold(N):\n",
    "    grid =[]\n",
    "    for row in range(N):\n",
    "        grid.append([])\n",
    "        for col in range(N):\n",
    "            grid[row].append('.')\n",
    "    return grid"
   ]
  },
  {
   "cell_type": "code",
   "execution_count": 10,
   "metadata": {
    "collapsed": true
   },
   "outputs": [],
   "source": [
    "def print_grid(grid):\n",
    "    for row in grid:\n",
    "        print(' '.join(row))"
   ]
  },
  {
   "cell_type": "code",
   "execution_count": 12,
   "metadata": {
    "collapsed": true
   },
   "outputs": [],
   "source": [
    "def count_spaces(direction, word_len, start_row, start_col):\n",
    "    if direction == 'H':\n",
    "        spaces = grid[start_row][start_col:(start_col+word_len)].count('.')\n",
    "    if direction == 'V':\n",
    "        spaces = 0\n",
    "        for i in range(word_len):\n",
    "            spaces += grid[start_row+i][start_col].count('.')\n",
    "    if direction == 'D':\n",
    "        spaces = 0\n",
    "        for i in range(word_len):\n",
    "            spaces +=grid[start_row+i][start_col+i].count('.')\n",
    "    return spaces\n",
    "    "
   ]
  },
  {
   "cell_type": "code",
   "execution_count": 13,
   "metadata": {
    "collapsed": true
   },
   "outputs": [],
   "source": [
    "def check_empty_spaces(grid):\n",
    "    empty_spaces=0\n",
    "    for row in grid:\n",
    "        empty_spaces += row.count('.')\n",
    "    return empty_spaces"
   ]
  },
  {
   "cell_type": "code",
   "execution_count": 14,
   "metadata": {
    "collapsed": true
   },
   "outputs": [],
   "source": [
    "#fill with letters\n",
    "def add_word(grid,word,N,direction_prob=[]):\n",
    "    word_len = len(word)\n",
    "       \n",
    "    first_empty = check_empty_spaces(grid)\n",
    "    last_empty = first_empty\n",
    "    \n",
    "    while last_empty == first_empty:\n",
    "        #start empty spaces\n",
    "        first_empty = check_empty_spaces(grid)\n",
    "        \n",
    "        #random start positions\n",
    "        start_row = np.random.randint(0,(N-1))\n",
    "        start_col = np.random.randint(0,(N-1))\n",
    "\n",
    "\n",
    "        ## sample direction   \n",
    "        direction_set=['H', 'V','D']\n",
    "        #direction Horizontal=0, Vertical=1, Diagonal=1\n",
    "        direction_ind=np.random.choice(a=range(len(direction_prob)),size=1,p=direction_prob)\n",
    "        direction=direction_set[int(direction_ind)]\n",
    "\n",
    "\n",
    "\n",
    "        if direction=='H':\n",
    "            if (start_col+word_len+1) > N: \n",
    "                start_col = N - word_len\n",
    "            else:\n",
    "                start_col = start_col\n",
    "\n",
    "            spaces_h = count_spaces(direction='H',word_len=word_len,start_row=start_row,start_col=start_col)\n",
    "\n",
    "            if spaces_h == word_len:            \n",
    "                for letter in word:\n",
    "                    for i in range(word_len):\n",
    "                        grid[start_row][start_col+i]=word[i]\n",
    "\n",
    "\n",
    "        elif direction=='V':\n",
    "            if (start_row+word_len+1) > N: \n",
    "                start_row = N - word_len\n",
    "            else:\n",
    "                start_row = start_row\n",
    "\n",
    "            spaces_v = count_spaces(direction='V',word_len=word_len,start_row=start_row,start_col=start_col)\n",
    "\n",
    "            if spaces_v == word_len:        \n",
    "                for letter in word:\n",
    "                    for i in range(word_len):\n",
    "                        grid[start_row+i][start_col]=word[i]\n",
    "\n",
    "        elif direction=='D':\n",
    "            if (start_col+word_len+1)> N: \n",
    "                start_col = N - word_len\n",
    "            else:\n",
    "                start_col = start_col\n",
    "            if (start_row+word_len+1) > N: \n",
    "                start_row = N - word_len\n",
    "            else:\n",
    "                start_row = start_row\n",
    "\n",
    "            spaces_d = count_spaces(direction='D',word_len=word_len,start_row=start_row,start_col=start_col)\n",
    "\n",
    "            if spaces_d == word_len:            \n",
    "                for letter in word:\n",
    "                    for i in range(word_len):\n",
    "                        grid[start_row+i][start_col+i]=word[i]\n",
    "        else:            \n",
    "            Pass\n",
    "    \n",
    "        #check word added\n",
    "        last_empty = check_empty_spaces(grid)\n",
    "    \n",
    "    return first_empty,last_empty\n",
    "        \n"
   ]
  },
  {
   "cell_type": "code",
   "execution_count": 15,
   "metadata": {
    "collapsed": true
   },
   "outputs": [],
   "source": [
    "def add_words_multi(grid,word,N,direction_prob):\n",
    "    for times in range(words_for_grid.count(word)):\n",
    "        add_word(grid=grid,word=word,N=N,direction_prob=direction_prob)\n",
    "    print_grid(grid)"
   ]
  },
  {
   "cell_type": "code",
   "execution_count": 21,
   "metadata": {
    "collapsed": true
   },
   "outputs": [],
   "source": [
    "def fill_up_grid(grid):\n",
    "    for row in range(len(grid)):\n",
    "        for col in range(len(grid)):\n",
    "            if grid[row][col] =='.':\n",
    "                grid[row][col]=str(choice(ascii_uppercase))\n",
    "    print_grid(grid)"
   ]
  },
  {
   "cell_type": "code",
   "execution_count": 67,
   "metadata": {
    "collapsed": true
   },
   "outputs": [],
   "source": [
    "def word_search(grid,word):\n",
    "\n",
    "    word_len = len(word)\n",
    "\n",
    "    #horizontal\n",
    "    for row in  range(len(grid)):\n",
    "        for col in range(len(grid)):\n",
    "            \n",
    "            any_word = []\n",
    "  \n",
    "            #horizontal\n",
    "            for n in range(word_len):\n",
    "                if (0 <= col + word_len - 1 < len(grid)):\n",
    "                    any_word += grid[row][col + n ]\n",
    "                    out.append(any_word)\n",
    "                    if word == ''.join(any_word):\n",
    "                        print(\"%s Found at (%d,%d)  in Horizontal direction\" % (word,row,col))\n",
    "                        continue\n",
    "                    continue\n",
    "          \n",
    "  \n",
    "    #vertical\n",
    "\n",
    "    for row in  range(len(grid)):\n",
    "        for col in range(len(grid)):\n",
    "            any_word = []\n",
    "    \n",
    "        #vertical\n",
    "            for n in range(word_len):\n",
    "                if (0 <= row + word_len - 1  < len(grid)):\n",
    "                    any_word += grid[row + n][col]\n",
    "                    out.append(any_word)\n",
    "                    if word == ''.join(any_word):\n",
    "                        print(\"%s Found at (%d,%d)  in Vertical direction\" % (word,row,col))\n",
    "                        continue\n",
    "                continue\n",
    "                \n",
    " #diagonal\n",
    "    for row in  range(len(grid)):\n",
    "        for col in range(len(grid)):\n",
    "            any_word = []\n",
    "\n",
    "            #diagonal\n",
    "            for n in range(word_len):\n",
    "                if (0 <= row + word_len - 1  < len(grid) and 0 <= col + word_len - 1 < len(grid)):\n",
    "                    any_word += grid[row + n][col + n ]\n",
    "                    out.append(any_word)\n",
    "                    if word == ''.join(any_word):\n",
    "                        print(\"%s Found at (%d,%d)  in Diagonal direction\" % (word,row,col))\n",
    "                        continue\n",
    "                else:\n",
    "                    pass\n"
   ]
  },
  {
   "cell_type": "code",
   "execution_count": null,
   "metadata": {
    "collapsed": true
   },
   "outputs": [],
   "source": [
    "#tests"
   ]
  },
  {
   "cell_type": "code",
   "execution_count": 9,
   "metadata": {
    "collapsed": true
   },
   "outputs": [],
   "source": [
    "grid = grid_hold(12)\n",
    "\n"
   ]
  },
  {
   "cell_type": "code",
   "execution_count": 11,
   "metadata": {},
   "outputs": [
    {
     "name": "stdout",
     "output_type": "stream",
     "text": [
      ". . . . . . . . . . . .\n",
      ". . . . . . . . . . . .\n",
      ". . . . . . . . . . . .\n",
      ". . . . . . . . . . . .\n",
      ". . . . . . . . . . . .\n",
      ". . . . . . . . . . . .\n",
      ". . . . . . . . . . . .\n",
      ". . . . . . . . . . . .\n",
      ". . . . . . . . . . . .\n",
      ". . . . . . . . . . . .\n",
      ". . . . . . . . . . . .\n",
      ". . . . . . . . . . . .\n"
     ]
    }
   ],
   "source": [
    "print_grid(grid)"
   ]
  },
  {
   "cell_type": "code",
   "execution_count": 22,
   "metadata": {},
   "outputs": [
    {
     "name": "stdout",
     "output_type": "stream",
     "text": [
      ". D . . . . . . . . . .\n",
      ". . O . . . . . . . . .\n",
      ". . . G . . . . . . . .\n",
      ". . . . . D O G . . . .\n",
      "K I T C H E N . . . . .\n",
      ". . K . . . . . . . . .\n",
      ". . I . H O U S E . . .\n",
      ". . T . . . . . . H . .\n",
      ". . C . . . . . . O . .\n",
      ". . H . . . . . . U . .\n",
      ". . E . . . . . . S . .\n",
      ". . N . . . . . . E . .\n"
     ]
    }
   ],
   "source": [
    "add_words_multi(grid,'HOUSE',12,[0.3,0.4,0.3])"
   ]
  },
  {
   "cell_type": "code",
   "execution_count": 125,
   "metadata": {},
   "outputs": [
    {
     "name": "stdout",
     "output_type": "stream",
     "text": [
      "K I T C H E N D K Z Y M\n",
      "N P A U K N H O O G L T\n",
      "H Y Q C C M F N G G I Y\n",
      "M F T K A R W J W B X T\n",
      "U E B D O G V W D H D X\n",
      "H Q F B T T J V T E R R\n",
      "P E F C L J F N E T P H\n",
      "N P N U N H H U Q O V I\n",
      "P W F K E O Z B W X Z P\n",
      "T D O D G U A T R F X R\n",
      "Q R Y V U S V W T F W N\n",
      "J W M N Q E Y S Y E O C\n"
     ]
    }
   ],
   "source": [
    "fill_up_grid(grid)"
   ]
  },
  {
   "cell_type": "code",
   "execution_count": null,
   "metadata": {
    "collapsed": true
   },
   "outputs": [],
   "source": [
    "#search problem"
   ]
  },
  {
   "cell_type": "code",
   "execution_count": 69,
   "metadata": {},
   "outputs": [
    {
     "name": "stdout",
     "output_type": "stream",
     "text": [
      "DOG Found at (3,5)  in Horizontal direction\n",
      "DOG Found at (0,1)  in Diagonal direction\n"
     ]
    }
   ],
   "source": [
    "word_search(grid, 'DOG')"
   ]
  }
 ],
 "metadata": {
  "kernelspec": {
   "display_name": "Python 3",
   "language": "python",
   "name": "python3"
  },
  "language_info": {
   "codemirror_mode": {
    "name": "ipython",
    "version": 3
   },
   "file_extension": ".py",
   "mimetype": "text/x-python",
   "name": "python",
   "nbconvert_exporter": "python",
   "pygments_lexer": "ipython3",
   "version": "3.6.3"
  }
 },
 "nbformat": 4,
 "nbformat_minor": 2
}
